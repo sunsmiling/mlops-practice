{
 "cells": [
  {
   "cell_type": "code",
   "execution_count": 1,
   "metadata": {},
   "outputs": [],
   "source": [
    "import pandas as pd"
   ]
  },
  {
   "cell_type": "code",
   "execution_count": 2,
   "metadata": {},
   "outputs": [],
   "source": [
    "data = pd.read_csv(\"../data/house_rent_train.csv\")"
   ]
  },
  {
   "cell_type": "code",
   "execution_count": 3,
   "metadata": {},
   "outputs": [
    {
     "data": {
      "text/html": [
       "<div>\n",
       "<style scoped>\n",
       "    .dataframe tbody tr th:only-of-type {\n",
       "        vertical-align: middle;\n",
       "    }\n",
       "\n",
       "    .dataframe tbody tr th {\n",
       "        vertical-align: top;\n",
       "    }\n",
       "\n",
       "    .dataframe thead th {\n",
       "        text-align: right;\n",
       "    }\n",
       "</style>\n",
       "<table border=\"1\" class=\"dataframe\">\n",
       "  <thead>\n",
       "    <tr style=\"text-align: right;\">\n",
       "      <th></th>\n",
       "      <th>posted_on</th>\n",
       "      <th>bhk</th>\n",
       "      <th>rent</th>\n",
       "      <th>size</th>\n",
       "      <th>floor</th>\n",
       "      <th>area_type</th>\n",
       "      <th>area_locality</th>\n",
       "      <th>city</th>\n",
       "      <th>furnishing_status</th>\n",
       "      <th>tenant_preferred</th>\n",
       "      <th>bathroom</th>\n",
       "      <th>point_of_contact</th>\n",
       "    </tr>\n",
       "  </thead>\n",
       "  <tbody>\n",
       "    <tr>\n",
       "      <th>0</th>\n",
       "      <td>2022-04-23</td>\n",
       "      <td>2</td>\n",
       "      <td>7000</td>\n",
       "      <td>450</td>\n",
       "      <td>1 out of 3</td>\n",
       "      <td>Carpet Area</td>\n",
       "      <td>safuipara</td>\n",
       "      <td>Kolkata</td>\n",
       "      <td>Furnished</td>\n",
       "      <td>Bachelors</td>\n",
       "      <td>2</td>\n",
       "      <td>Contact Owner</td>\n",
       "    </tr>\n",
       "    <tr>\n",
       "      <th>1</th>\n",
       "      <td>2022-04-23</td>\n",
       "      <td>1</td>\n",
       "      <td>6500</td>\n",
       "      <td>800</td>\n",
       "      <td>Ground out of 1</td>\n",
       "      <td>Carpet Area</td>\n",
       "      <td>Santragachi</td>\n",
       "      <td>Kolkata</td>\n",
       "      <td>Unfurnished</td>\n",
       "      <td>Bachelors/Family</td>\n",
       "      <td>1</td>\n",
       "      <td>Contact Owner</td>\n",
       "    </tr>\n",
       "    <tr>\n",
       "      <th>2</th>\n",
       "      <td>2022-04-23</td>\n",
       "      <td>2</td>\n",
       "      <td>20000</td>\n",
       "      <td>700</td>\n",
       "      <td>1 out of 2</td>\n",
       "      <td>Super Area</td>\n",
       "      <td>Salt Lake City Sector 1</td>\n",
       "      <td>Kolkata</td>\n",
       "      <td>Furnished</td>\n",
       "      <td>Bachelors/Family</td>\n",
       "      <td>1</td>\n",
       "      <td>Contact Owner</td>\n",
       "    </tr>\n",
       "    <tr>\n",
       "      <th>3</th>\n",
       "      <td>2022-04-23</td>\n",
       "      <td>3</td>\n",
       "      <td>36125</td>\n",
       "      <td>1700</td>\n",
       "      <td>Ground out of 2</td>\n",
       "      <td>Super Area</td>\n",
       "      <td>Salt Lake City</td>\n",
       "      <td>Kolkata</td>\n",
       "      <td>Unfurnished</td>\n",
       "      <td>Bachelors/Family</td>\n",
       "      <td>2</td>\n",
       "      <td>Contact Owner</td>\n",
       "    </tr>\n",
       "    <tr>\n",
       "      <th>4</th>\n",
       "      <td>2022-04-23</td>\n",
       "      <td>2</td>\n",
       "      <td>8000</td>\n",
       "      <td>650</td>\n",
       "      <td>1 out of 2</td>\n",
       "      <td>Super Area</td>\n",
       "      <td>Garia Station, Garia</td>\n",
       "      <td>Kolkata</td>\n",
       "      <td>Unfurnished</td>\n",
       "      <td>Bachelors/Family</td>\n",
       "      <td>1</td>\n",
       "      <td>Contact Owner</td>\n",
       "    </tr>\n",
       "  </tbody>\n",
       "</table>\n",
       "</div>"
      ],
      "text/plain": [
       "    posted_on  bhk   rent  size            floor    area_type   \n",
       "0  2022-04-23    2   7000   450       1 out of 3  Carpet Area  \\\n",
       "1  2022-04-23    1   6500   800  Ground out of 1  Carpet Area   \n",
       "2  2022-04-23    2  20000   700       1 out of 2   Super Area   \n",
       "3  2022-04-23    3  36125  1700  Ground out of 2   Super Area   \n",
       "4  2022-04-23    2   8000   650       1 out of 2   Super Area   \n",
       "\n",
       "             area_locality     city furnishing_status  tenant_preferred   \n",
       "0                safuipara  Kolkata         Furnished         Bachelors  \\\n",
       "1              Santragachi  Kolkata       Unfurnished  Bachelors/Family   \n",
       "2  Salt Lake City Sector 1  Kolkata         Furnished  Bachelors/Family   \n",
       "3           Salt Lake City  Kolkata       Unfurnished  Bachelors/Family   \n",
       "4     Garia Station, Garia  Kolkata       Unfurnished  Bachelors/Family   \n",
       "\n",
       "   bathroom point_of_contact  \n",
       "0         2    Contact Owner  \n",
       "1         1    Contact Owner  \n",
       "2         1    Contact Owner  \n",
       "3         2    Contact Owner  \n",
       "4         1    Contact Owner  "
      ]
     },
     "execution_count": 3,
     "metadata": {},
     "output_type": "execute_result"
    }
   ],
   "source": [
    "data.head()"
   ]
  },
  {
   "cell_type": "code",
   "execution_count": 13,
   "metadata": {},
   "outputs": [],
   "source": [
    "def extract_floor(floor_info: str) -> int:\n",
    "    \"\"\"층수 컬럼에서 실제 층수만 추출합니다.\n",
    "\n",
    "    현재 층수 정보는 'X out of Y'로 되어 있습니다.\n",
    "    여기에서 X만 추출하여 정수로 반환합니다.\n",
    "    Upper basement, Lower basement, Ground out 등은 모두 0층으로 변환합니다.\n",
    "\n",
    "    Args:\n",
    "        floor_info (str): 층수 정보\n",
    "    \"\"\"\n",
    "    # TODO\n",
    "    # Split the string by space\n",
    "    floor_list = floor_info.split()\n",
    "    floor_str = floor_list[0]\n",
    "\n",
    "    return int(floor_str) if floor_str.isdigit() else 0"
   ]
  },
  {
   "cell_type": "code",
   "execution_count": 4,
   "metadata": {},
   "outputs": [],
   "source": [
    "def extract_floor(floor_info: str) -> int:\n",
    "    \"\"\"층수 컬럼에서 실제 층수만 추출합니다.\n",
    "\n",
    "    현재 층수 정보는 'X out of Y'로 되어 있습니다.\n",
    "    여기에서 X만 추출하여 정수로 반환합니다.\n",
    "    Upper basement, Lower basement, Ground out 등은 모두 0층으로 변환합니다.\n",
    "\n",
    "    Args:\n",
    "        floor_info (str): 층수 정보\n",
    "    \"\"\"\n",
    "    # TODO\n",
    "    # Convert the floor_info string to lowercase for easier comparison\n",
    "    floor_info = floor_info.lower()\n",
    "\n",
    "    # Check if the string contains \"basement\" or \"ground\"\n",
    "    if \"basement\" in floor_info or \"ground\" in floor_info:\n",
    "        return 0\n",
    "\n",
    "    # Split the string by space\n",
    "    floor_list = floor_info.split()\n",
    "\n",
    "    # Loop through the list and find the number\n",
    "    for item in floor_list:\n",
    "        if item.isdigit():\n",
    "            return int(item)\n",
    "\n",
    "    # If no number is found, return 0\n",
    "    return 0"
   ]
  },
  {
   "cell_type": "code",
   "execution_count": 8,
   "metadata": {},
   "outputs": [
    {
     "data": {
      "text/plain": [
       "0         1 out of 3\n",
       "1    Ground out of 1\n",
       "2         1 out of 2\n",
       "3    Ground out of 2\n",
       "4         1 out of 2\n",
       "Name: floor, dtype: object"
      ]
     },
     "execution_count": 8,
     "metadata": {},
     "output_type": "execute_result"
    }
   ],
   "source": [
    "data.floor.head()"
   ]
  },
  {
   "cell_type": "code",
   "execution_count": 14,
   "metadata": {},
   "outputs": [
    {
     "data": {
      "text/plain": [
       "1"
      ]
     },
     "execution_count": 14,
     "metadata": {},
     "output_type": "execute_result"
    }
   ],
   "source": [
    "extract_floor(data.floor[4])"
   ]
  }
 ],
 "metadata": {
  "kernelspec": {
   "display_name": "mlops-practice-2_cZx3tu",
   "language": "python",
   "name": "python3"
  },
  "language_info": {
   "codemirror_mode": {
    "name": "ipython",
    "version": 3
   },
   "file_extension": ".py",
   "mimetype": "text/x-python",
   "name": "python",
   "nbconvert_exporter": "python",
   "pygments_lexer": "ipython3",
   "version": "3.9.16"
  },
  "orig_nbformat": 4
 },
 "nbformat": 4,
 "nbformat_minor": 2
}
