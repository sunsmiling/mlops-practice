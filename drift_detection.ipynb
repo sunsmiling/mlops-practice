{
 "cells": [
  {
   "cell_type": "code",
   "execution_count": 1,
   "metadata": {},
   "outputs": [],
   "source": [
    "import sys\n",
    "\n",
    "sys.path.append(\"/workspaces/mlops-practice\")"
   ]
  },
  {
   "cell_type": "code",
   "execution_count": 2,
   "metadata": {},
   "outputs": [
    {
     "name": "stderr",
     "output_type": "stream",
     "text": [
      "deepchecks - WARNING - You are using deepchecks version 0.17.2.dev1, however a newer version is available. Deepchecks is frequently updated with major improvements. You should consider upgrading via the \"python -m pip install --upgrade deepchecks\" command.\n",
      "/home/codespace/.local/share/virtualenvs/mlops-practice-2_cZx3tu/lib/python3.9/site-packages/sklearn/preprocessing/_function_transformer.py:343: UserWarning:\n",
      "\n",
      "With transform=\"pandas\", `func` should return a DataFrame to follow the set_output API.\n",
      "\n"
     ]
    }
   ],
   "source": [
    "import os\n",
    "\n",
    "import joblib\n",
    "from datetime import datetime\n",
    "\n",
    "import numpy as np\n",
    "import pandas as pd\n",
    "from deepchecks.tabular import Dataset\n",
    "from deepchecks.tabular.suites import train_test_validation, model_evaluation\n",
    "\n",
    "from src.common.constants import (\n",
    "    ARTIFACT_PATH,\n",
    "    DATA_PATH,\n",
    ")\n",
    "from src.preprocess import CAT_FEATURES"
   ]
  },
  {
   "cell_type": "code",
   "execution_count": 3,
   "metadata": {},
   "outputs": [],
   "source": [
    "DATE = datetime.now().strftime(\"%Y%m%d\")\n",
    "LABEL_NAME = \"rent\""
   ]
  },
  {
   "cell_type": "code",
   "execution_count": 4,
   "metadata": {},
   "outputs": [],
   "source": [
    "train_df = pd.read_csv(\n",
    "    os.path.join(DATA_PATH, \"house_rent_train.csv\"),\n",
    "    usecols=lambda x: x not in [\"area_locality\", \"posted_on\", \"id\"],\n",
    ")\n",
    "new_df = pd.read_csv(\n",
    "    os.path.join(DATA_PATH, \"house_rent_new.csv\"),\n",
    "    usecols=lambda x: x not in [\"area_locality\", \"posted_on\", \"id\"],\n",
    ")"
   ]
  },
  {
   "attachments": {},
   "cell_type": "markdown",
   "metadata": {},
   "source": [
    "## Data Drift"
   ]
  },
  {
   "cell_type": "code",
   "execution_count": 5,
   "metadata": {},
   "outputs": [],
   "source": [
    "train_set = Dataset(\n",
    "    train_df, \n",
    "    label=LABEL_NAME,\n",
    "    cat_features=CAT_FEATURES,\n",
    "    )\n",
    "new_set = Dataset(\n",
    "    new_df, \n",
    "    label=LABEL_NAME,\n",
    "    cat_features=CAT_FEATURES,\n",
    "    )"
   ]
  },
  {
   "cell_type": "code",
   "execution_count": 6,
   "metadata": {},
   "outputs": [
    {
     "data": {
      "text/html": [
       "\n",
       "    <style>\n",
       "        progress {\n",
       "            -webkit-appearance: none;\n",
       "            border: none;\n",
       "            border-radius: 3px;\n",
       "            width: 300px;\n",
       "            height: 20px;\n",
       "            vertical-align: middle;\n",
       "            margin-right: 10px;\n",
       "            background-color: aliceblue;\n",
       "        }\n",
       "        progress::-webkit-progress-bar {\n",
       "            border-radius: 3px;\n",
       "            background-color: aliceblue;\n",
       "        }\n",
       "        progress::-webkit-progress-value {\n",
       "            background-color: #9d60fb;\n",
       "        }\n",
       "        progress::-moz-progress-bar {\n",
       "            background-color: #9d60fb;\n",
       "        }\n",
       "    </style>\n",
       "    "
      ]
     },
     "metadata": {},
     "output_type": "display_data"
    },
    {
     "data": {
      "text/html": []
     },
     "metadata": {},
     "output_type": "display_data"
    }
   ],
   "source": [
    "validation_suite = train_test_validation()\n",
    "suite_result = validation_suite.run(train_set, new_set)"
   ]
  },
  {
   "cell_type": "code",
   "execution_count": 7,
   "metadata": {},
   "outputs": [],
   "source": [
    "DRIFT_DETECTION_PATH = os.path.join(\n",
    "    ARTIFACT_PATH, \"drift_detection\"\n",
    ")\n",
    "\n",
    "if not os.path.exists(DRIFT_DETECTION_PATH):\n",
    "    os.makedirs(DRIFT_DETECTION_PATH)"
   ]
  },
  {
   "cell_type": "code",
   "execution_count": 8,
   "metadata": {},
   "outputs": [
    {
     "name": "stdout",
     "output_type": "stream",
     "text": [
      "Feature Drift\n",
      "Failed for 3 out of 8 columns.\n",
      "Found 3 categorical columns with Cramer's V above threshold: {'area_type': '0.23', 'city': '0.21', 'point_of_contact': '0.31'}\n",
      "Label Drift\n",
      "Label's drift score Kolmogorov-Smirnov is 0.25\n",
      "Multivariate Drift\n",
      "Found drift value of: 0.42, corresponding to a domain classifier AUC of: 0.71\n"
     ]
    }
   ],
   "source": [
    "for result in suite_result.get_not_passed_checks():\n",
    "    print(result.header)\n",
    "    print(result.conditions_results[0].details)"
   ]
  },
  {
   "cell_type": "code",
   "execution_count": 9,
   "metadata": {},
   "outputs": [
    {
     "data": {
      "text/plain": [
       "'/workspaces/mlops-practice/artifacts/drift_detection/20230613_drift_detection.html'"
      ]
     },
     "execution_count": 9,
     "metadata": {},
     "output_type": "execute_result"
    }
   ],
   "source": [
    "suite_result.save_as_html(\n",
    "    os.path.join(DRIFT_DETECTION_PATH, f\"{DATE}_drift_detection.html\")\n",
    ")"
   ]
  },
  {
   "cell_type": "code",
   "execution_count": 10,
   "metadata": {},
   "outputs": [
    {
     "data": {
      "application/vnd.jupyter.widget-view+json": {
       "model_id": "ad37258403cd49af8a4a00b80eefb488",
       "version_major": 2,
       "version_minor": 0
      },
      "text/plain": [
       "Accordion(children=(VBox(children=(HTML(value='\\n<h1 id=\"summary_I0I2SY25JYF4FS7VEA661MP3Q\">Train Test Validat…"
      ]
     },
     "metadata": {},
     "output_type": "display_data"
    }
   ],
   "source": [
    "suite_result.show()"
   ]
  },
  {
   "attachments": {},
   "cell_type": "markdown",
   "metadata": {},
   "source": [
    "---"
   ]
  },
  {
   "attachments": {},
   "cell_type": "markdown",
   "metadata": {},
   "source": [
    "## Model Drift"
   ]
  },
  {
   "cell_type": "code",
   "execution_count": 11,
   "metadata": {},
   "outputs": [],
   "source": [
    "from src.preprocess import preprocess_pipeline"
   ]
  },
  {
   "cell_type": "code",
   "execution_count": 12,
   "metadata": {},
   "outputs": [],
   "source": [
    "model = joblib.load(os.path.join(ARTIFACT_PATH, \"model.pkl\"))"
   ]
  },
  {
   "cell_type": "code",
   "execution_count": 13,
   "metadata": {},
   "outputs": [],
   "source": [
    "y_train = np.log1p(train_df[LABEL_NAME])\n",
    "x_train = preprocess_pipeline.fit_transform(\n",
    "    X=train_df.drop([LABEL_NAME], axis=1),\n",
    "    y=y_train\n",
    ")\n",
    "\n",
    "y_new = np.log1p(new_df[LABEL_NAME])\n",
    "x_new = preprocess_pipeline.fit_transform(\n",
    "    X=new_df.drop([LABEL_NAME], axis=1),\n",
    "    y=y_new\n",
    ")"
   ]
  },
  {
   "cell_type": "code",
   "execution_count": 14,
   "metadata": {},
   "outputs": [],
   "source": [
    "train_set = Dataset(\n",
    "    x_train,\n",
    "    label=y_train,\n",
    "    cat_features=CAT_FEATURES,\n",
    ")\n",
    "new_set = Dataset(\n",
    "    x_new,\n",
    "    label=y_new,\n",
    "    cat_features=CAT_FEATURES,\n",
    ")"
   ]
  },
  {
   "cell_type": "code",
   "execution_count": 15,
   "metadata": {},
   "outputs": [
    {
     "data": {
      "text/html": [
       "\n",
       "    <style>\n",
       "        progress {\n",
       "            -webkit-appearance: none;\n",
       "            border: none;\n",
       "            border-radius: 3px;\n",
       "            width: 300px;\n",
       "            height: 20px;\n",
       "            vertical-align: middle;\n",
       "            margin-right: 10px;\n",
       "            background-color: aliceblue;\n",
       "        }\n",
       "        progress::-webkit-progress-bar {\n",
       "            border-radius: 3px;\n",
       "            background-color: aliceblue;\n",
       "        }\n",
       "        progress::-webkit-progress-value {\n",
       "            background-color: #9d60fb;\n",
       "        }\n",
       "        progress::-moz-progress-bar {\n",
       "            background-color: #9d60fb;\n",
       "        }\n",
       "    </style>\n",
       "    "
      ]
     },
     "metadata": {},
     "output_type": "display_data"
    },
    {
     "data": {
      "text/html": [
       "\n",
       "            <div>\n",
       "                <label>\n",
       "                    Model Evaluation Suite:<br/>\n",
       "                    <progress\n",
       "                        value='0'\n",
       "                        max='11'\n",
       "                        class='deepchecks'\n",
       "                    >\n",
       "                    </progress>\n",
       "                </label>\n",
       "                <span>0/11 [Time: 00:00]</span>\n",
       "            </div>\n",
       "        "
      ]
     },
     "metadata": {},
     "output_type": "display_data"
    },
    {
     "name": "stderr",
     "output_type": "stream",
     "text": [
      "deepchecks - WARNING - You are using deepchecks version 0.17.2.dev1, however a newer version is available. Deepchecks is frequently updated with major improvements. You should consider upgrading via the \"python -m pip install --upgrade deepchecks\" command.\n",
      "deepchecks - WARNING - You are using deepchecks version 0.17.2.dev1, however a newer version is available. Deepchecks is frequently updated with major improvements. You should consider upgrading via the \"python -m pip install --upgrade deepchecks\" command.\n"
     ]
    }
   ],
   "source": [
    "evaluation_suite = model_evaluation()\n",
    "suite_result = evaluation_suite.run(train_set, new_set, model[\"regr\"])"
   ]
  },
  {
   "cell_type": "code",
   "execution_count": 16,
   "metadata": {},
   "outputs": [
    {
     "data": {
      "application/vnd.jupyter.widget-view+json": {
       "model_id": "11961ccbf4d04114a6899c047485b9c2",
       "version_major": 2,
       "version_minor": 0
      },
      "text/plain": [
       "Accordion(children=(VBox(children=(HTML(value='\\n<h1 id=\"summary_NK3ZUKFUZU0OPQT63MAXH02DF\">Model Evaluation S…"
      ]
     },
     "metadata": {},
     "output_type": "display_data"
    },
    {
     "ename": "",
     "evalue": "",
     "output_type": "error",
     "traceback": [
      "\u001b[1;31m현재 셀 또는 이전 셀에서 코드를 실행하는 동안 Kernel이 충돌했습니다. 셀의 코드를 검토하여 오류의 가능한 원인을 식별하세요. 자세한 내용을 보려면 <a href='https://aka.ms/vscodeJupyterKernelCrash'> 여기 </a> 를 클릭하세요. 자세한 내용은 Jupyter <a href='command:jupyter.viewOutput'>로그</a>를 참조하세요."
     ]
    }
   ],
   "source": [
    "suite_result.show()"
   ]
  },
  {
   "cell_type": "code",
   "execution_count": 76,
   "metadata": {},
   "outputs": [
    {
     "name": "stdout",
     "output_type": "stream",
     "text": [
      "The following test failed!\n",
      "Feature Drift: Failed for 3 out of 8 columns.\n",
      "Found 3 categorical columns with Cramer's V above threshold: {'area_type': '0.23', 'city': '0.21', 'point_of_contact': '0.31'}\n",
      "\n",
      "The following test failed!\n",
      "Label Drift: Label's drift score Kolmogorov-Smirnov is 0.25\n",
      "\n",
      "The following test failed!\n",
      "Multivariate Drift: Found drift value of: 0.42, corresponding to a domain classifier AUC of: 0.71\n",
      "\n"
     ]
    }
   ],
   "source": [
    "for result in suite_result.get_not_passed_checks():\n",
    "    print(\n",
    "        \"The following test failed!\\n\"\n",
    "        f\"{result.header}: {result.conditions_results[0].details}\\n\"\n",
    "    )"
   ]
  },
  {
   "cell_type": "code",
   "execution_count": null,
   "metadata": {},
   "outputs": [],
   "source": []
  }
 ],
 "metadata": {
  "kernelspec": {
   "display_name": "mlenv",
   "language": "python",
   "name": "python3"
  },
  "language_info": {
   "codemirror_mode": {
    "name": "ipython",
    "version": 3
   },
   "file_extension": ".py",
   "mimetype": "text/x-python",
   "name": "python",
   "nbconvert_exporter": "python",
   "pygments_lexer": "ipython3",
   "version": "3.9.16"
  },
  "orig_nbformat": 4
 },
 "nbformat": 4,
 "nbformat_minor": 2
}
